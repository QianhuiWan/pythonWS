{
 "cells": [
  {
   "cell_type": "markdown",
   "metadata": {
    "pycharm": {
     "name": "#%% md\n"
    }
   },
   "source": [
    "# Merge files with unique identifiers\n",
    "## Method1: use pandas to merge Excel files"
   ]
  },
  {
   "cell_type": "code",
   "execution_count": 8,
   "metadata": {},
   "outputs": [],
   "source": [
    "#import os\n",
    "import pandas as pd\n",
    "\n",
    "# read the excel file in\n",
    "ws1 = pd.read_excel(\"/Users/qianhuiwan/gitHubRepo/PycharmProjects/pythonWS/data/whaleshark taxa annotated 2020.xlsx\",\n",
    "                    sheet_name=\"Sheet1\", header=2)\n",
    "ws2 = pd.read_excel(\"/Users/qianhuiwan/gitHubRepo/PycharmProjects/pythonWS/data/philippine whale shark reseq 2020.xlsx\",\n",
    "                    sheet_name=\"all_taxonomy\", header=0)\n",
    "ws3 = pd.merge(ws1, ws2, left_on='taxid', right_on='Taxid', how='outer')\n",
    "\n",
    "# print the loaded file\n",
    "print(ws3)"
   ]
  },
  {
   "cell_type": "markdown",
   "metadata": {},
   "source": [
    "## Method2: use the pure python to merge files"
   ]
  },
  {
   "cell_type": "code",
   "execution_count": 1,
   "metadata": {
    "pycharm": {
     "name": "#%%\n"
    }
   },
   "outputs": [
    {
     "ename": "UnicodeDecodeError",
     "evalue": "'utf-8' codec can't decode byte 0x87 in position 14: invalid start byte",
     "output_type": "error",
     "traceback": [
      "\u001B[0;31m---------------------------------------------------------------------------\u001B[0m",
      "\u001B[0;31mUnicodeDecodeError\u001B[0m                        Traceback (most recent call last)",
      "\u001B[0;32m<ipython-input-1-59e315be796c>\u001B[0m in \u001B[0;36m<module>\u001B[0;34m\u001B[0m\n\u001B[1;32m      5\u001B[0m \u001B[0;32mwith\u001B[0m \u001B[0mopen\u001B[0m\u001B[0;34m(\u001B[0m\u001B[0;34m\"/Users/qianhuiwan/gitHubRepo/PycharmProjects/pythonWS/data/whaleshark taxa annotated 2020.xlsx\"\u001B[0m\u001B[0;34m,\u001B[0m \u001B[0;34m\"r\"\u001B[0m\u001B[0;34m)\u001B[0m \u001B[0;32mas\u001B[0m \u001B[0mw1\u001B[0m\u001B[0;34m:\u001B[0m\u001B[0;34m\u001B[0m\u001B[0;34m\u001B[0m\u001B[0m\n\u001B[1;32m      6\u001B[0m     \u001B[0mc\u001B[0m \u001B[0;34m=\u001B[0m \u001B[0;36m0\u001B[0m\u001B[0;34m\u001B[0m\u001B[0;34m\u001B[0m\u001B[0m\n\u001B[0;32m----> 7\u001B[0;31m     \u001B[0;32mfor\u001B[0m \u001B[0ml\u001B[0m \u001B[0;32min\u001B[0m \u001B[0mw1\u001B[0m\u001B[0;34m:\u001B[0m\u001B[0;34m\u001B[0m\u001B[0;34m\u001B[0m\u001B[0m\n\u001B[0m\u001B[1;32m      8\u001B[0m         \u001B[0mc\u001B[0m \u001B[0;34m+=\u001B[0m \u001B[0;36m1\u001B[0m\u001B[0;34m\u001B[0m\u001B[0;34m\u001B[0m\u001B[0m\n\u001B[1;32m      9\u001B[0m         \u001B[0;32mif\u001B[0m \u001B[0mc\u001B[0m \u001B[0;34m==\u001B[0m \u001B[0;36m3\u001B[0m\u001B[0;34m:\u001B[0m\u001B[0;34m\u001B[0m\u001B[0;34m\u001B[0m\u001B[0m\n",
      "\u001B[0;32m~/anaconda3/lib/python3.8/codecs.py\u001B[0m in \u001B[0;36mdecode\u001B[0;34m(self, input, final)\u001B[0m\n\u001B[1;32m    320\u001B[0m         \u001B[0;31m# decode input (taking the buffer into account)\u001B[0m\u001B[0;34m\u001B[0m\u001B[0;34m\u001B[0m\u001B[0;34m\u001B[0m\u001B[0m\n\u001B[1;32m    321\u001B[0m         \u001B[0mdata\u001B[0m \u001B[0;34m=\u001B[0m \u001B[0mself\u001B[0m\u001B[0;34m.\u001B[0m\u001B[0mbuffer\u001B[0m \u001B[0;34m+\u001B[0m \u001B[0minput\u001B[0m\u001B[0;34m\u001B[0m\u001B[0;34m\u001B[0m\u001B[0m\n\u001B[0;32m--> 322\u001B[0;31m         \u001B[0;34m(\u001B[0m\u001B[0mresult\u001B[0m\u001B[0;34m,\u001B[0m \u001B[0mconsumed\u001B[0m\u001B[0;34m)\u001B[0m \u001B[0;34m=\u001B[0m \u001B[0mself\u001B[0m\u001B[0;34m.\u001B[0m\u001B[0m_buffer_decode\u001B[0m\u001B[0;34m(\u001B[0m\u001B[0mdata\u001B[0m\u001B[0;34m,\u001B[0m \u001B[0mself\u001B[0m\u001B[0;34m.\u001B[0m\u001B[0merrors\u001B[0m\u001B[0;34m,\u001B[0m \u001B[0mfinal\u001B[0m\u001B[0;34m)\u001B[0m\u001B[0;34m\u001B[0m\u001B[0;34m\u001B[0m\u001B[0m\n\u001B[0m\u001B[1;32m    323\u001B[0m         \u001B[0;31m# keep undecoded input until the next call\u001B[0m\u001B[0;34m\u001B[0m\u001B[0;34m\u001B[0m\u001B[0;34m\u001B[0m\u001B[0m\n\u001B[1;32m    324\u001B[0m         \u001B[0mself\u001B[0m\u001B[0;34m.\u001B[0m\u001B[0mbuffer\u001B[0m \u001B[0;34m=\u001B[0m \u001B[0mdata\u001B[0m\u001B[0;34m[\u001B[0m\u001B[0mconsumed\u001B[0m\u001B[0;34m:\u001B[0m\u001B[0;34m]\u001B[0m\u001B[0;34m\u001B[0m\u001B[0;34m\u001B[0m\u001B[0m\n",
      "\u001B[0;31mUnicodeDecodeError\u001B[0m: 'utf-8' codec can't decode byte 0x87 in position 14: invalid start byte"
     ]
    }
   ],
   "source": [
    "import sys\n",
    "taxa = {}\n",
    "data = {}\n",
    "headerlist = []\n",
    "alldatalen = None\n",
    "with open(\"/Users/qianhuiwan/gitHubRepo/PycharmProjects/pythonWS/data/whaleshark taxa annotated 2020.xlsx\",\n",
    "          \"r\") as w1:\n",
    "    c = 0\n",
    "    for l in w1:\n",
    "        c += 1\n",
    "        if c == 3:\n",
    "            headerlist = l.rstrip().split(\"\\t\")\n",
    "        elif c > 3:\n",
    "            p = l.rstrip().split(\"\\t\")\n",
    "            taxid = p[7]\n",
    "            taxstr = \"\\t\".join(p[0:7])\n",
    "            taxa[taxid] = taxstr\n",
    "            data[taxid] = p[8:]\n",
    "            datalen = len(data[taxid])\n",
    "            if not alldatalen:\n",
    "                alldatalen =  datalen\n",
    "            if datalen != alldatalen:\n",
    "                sys.stderr.write(f\"ERROR: {datalen} and {alldatalen} are not the same length!\\n\")\n",
    "header2=False\n",
    "with open(\"/Users/qianhuiwan/gitHubRepo/PycharmProjects/pythonWS/data/philippine whale shark reseq 2020.xlsx\",\n",
    "          \"r\") as w2:\n",
    "    for l in w2:\n",
    "        if not header2:\n",
    "            header2 =  True\n",
    "            header = l.rstrip().split(\"\\t\")\n",
    "            headerlist += header[8:]\n",
    "        else:\n",
    "            p = l.rstrip().split(\"\\t\")\n",
    "            taxid = p[7]\n",
    "            taxstr = \"\\t\".join(p[0:7])\n",
    "            if taxid in taxa and taxa[taxid] != taxstr:\n",
    "                sys.stderr.write(f\"ERROR: Had {taxa[taxid]} now have {taxstr} for {taxid}\\n\")\n",
    "            else:\n",
    "                taxa[taxid] = taxstr\n",
    "            if taxid not in data:\n",
    "                data[taxid] = [\"\" for v in range(alldatalen)]\n",
    "            data[taxid] += p[8:]\n",
    "with open(\"example2.tsv\", 'w') as out:\n",
    "    out.write(\"\\t\".join(headerlist) + \"\\n\")\n",
    "    for tid in data:\n",
    "        out.write(\"\\t\".join(map(str, [taxa[tid], tid] + data[tid])) + \"\\n\")\n",
    "\n",
    "\n",
    "\n",
    "\n"
   ]
  }
 ],
 "metadata": {
  "kernelspec": {
   "display_name": "Python 3",
   "language": "python",
   "name": "python3"
  },
  "language_info": {
   "codemirror_mode": {
    "name": "ipython",
    "version": 3
   },
   "file_extension": ".py",
   "mimetype": "text/x-python",
   "name": "python",
   "nbconvert_exporter": "python",
   "pygments_lexer": "ipython3",
   "version": "3.8.5"
  }
 },
 "nbformat": 4,
 "nbformat_minor": 1
}